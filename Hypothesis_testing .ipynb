{
 "cells": [
  {
   "cell_type": "markdown",
   "metadata": {},
   "source": [
    "# INTRO"
   ]
  },
  {
   "cell_type": "markdown",
   "metadata": {},
   "source": [
    "**Sampling distribution of the mean**\n",
    "\n",
    "- we can use the random.normal() function frm NumPy to generate a population of values with particular standard deviation \n",
    "- generate sampling distribution of the sample mean \n",
    "- calculate CI for 95% \n",
    "- finally determine the standard error \n",
    "- estimate the width of the sampling distribution above, without actually knowing the population distribution "
   ]
  },
  {
   "cell_type": "code",
   "execution_count": 4,
   "metadata": {},
   "outputs": [],
   "source": [
    "import numpy as np\n",
    "import pandas as pd\n",
    "import matplotlib.pyplot as plt\n",
    "import random\n",
    "from scipy.stats import ttest_1samp\n",
    "from scipy.stats import ttest_ind\n",
    "from statsmodels.stats.multicomp import pairwise_tukeyhsd"
   ]
  },
  {
   "cell_type": "code",
   "execution_count": 5,
   "metadata": {},
   "outputs": [
    {
     "data": {
      "image/png": "[encoded data removed]",
      "text/plain": [
       "<Figure size 432x288 with 1 Axes>"
      ]
     },
     "metadata": {
      "needs_background": "light"
     },
     "output_type": "display_data"
    }
   ],
   "source": [
    "pop_std = 5\n",
    "sample_size = 10\n",
    "size = 3000\n",
    "population = np.random.normal(loc = 80, scale = pop_std, size = size)\n",
    "population = list(population)\n",
    "plt.hist(population, bins = 25, edgecolor = \"yellow\")\n",
    "plt.show()"
   ]
  },
  {
   "cell_type": "code",
   "execution_count": 6,
   "metadata": {},
   "outputs": [
    {
     "data": {
      "image/png": "[encoded data removed]",
      "text/plain": [
       "<Figure size 432x288 with 1 Axes>"
      ]
     },
     "metadata": {
      "needs_background": "light"
     },
     "output_type": "display_data"
    }
   ],
   "source": [
    "sample_mean = []\n",
    "for i in range(size):\n",
    "    samp = random.sample(population, sample_size)\n",
    "    sample_mean.append(np.mean(samp))\n",
    "plt.hist(sample_mean, bins = 50, edgecolor = 'black')\n",
    "plt.title('Sampling Distribution')\n",
    "plt.vlines(np.mean(sample_mean), 0, 250, lw = 3, linestyles = 'dashed', color = 'red')\n",
    "plt.show()"
   ]
  },
  {
   "cell_type": "markdown",
   "metadata": {},
   "source": [
    "**Specifically, the NumPy percentile() function can be used to calculate that 95% of the sample means from the above simulation**\n",
    "\n",
    "- 95 % of the sample means from the above simulation fall in a range from 46.6 to 100. "
   ]
  },
  {
   "cell_type": "code",
   "execution_count": 7,
   "metadata": {},
   "outputs": [
    {
     "data": {
      "text/plain": [
       "array([76.98049617, 82.96535019])"
      ]
     },
     "execution_count": 7,
     "metadata": {},
     "output_type": "execute_result"
    }
   ],
   "source": [
    "percentiles = np.percentile(sample_mean, [2.5, 97.5])\n",
    "percentiles"
   ]
  },
  {
   "cell_type": "code",
   "execution_count": 8,
   "metadata": {},
   "outputs": [
    {
     "data": {
      "text/plain": [
       "0.4826814331172427"
      ]
     },
     "execution_count": 8,
     "metadata": {},
     "output_type": "execute_result"
    }
   ],
   "source": [
    "std_error = np.std(sample_mean) / (sample_size ** 0.5)\n",
    "std_error"
   ]
  },
  {
   "cell_type": "code",
   "execution_count": 9,
   "metadata": {},
   "outputs": [
    {
     "data": {
      "text/plain": [
       "0.9460556089097957"
      ]
     },
     "execution_count": 9,
     "metadata": {},
     "output_type": "execute_result"
    }
   ],
   "source": [
    "# first needs to multiply the z-score by standard error \n",
    "z_score = 1.96\n",
    "mean_width = z_score * std_error\n",
    "mean_width"
   ]
  },
  {
   "cell_type": "markdown",
   "metadata": {},
   "source": [
    "Therefore, there is about a 95% probability that the observed sample mean of 80 is no more than 0.97N  away from the population mean. In other words, there is about a 95% probability that the population mean is between 79 and 81. This is referred to as a 95% confidence interval."
   ]
  },
  {
   "cell_type": "markdown",
   "metadata": {},
   "source": [
    "# Statistical Concepts"
   ]
  },
  {
   "cell_type": "markdown",
   "metadata": {},
   "source": [
    "**Sample Mean and Population Mean**\n",
    "\n",
    "What is a sample?\n",
    "- Sample is a subset from entire population.The mean of each sample is called sample mean and is a estimation of the population mean. \n",
    "What is the population?\n",
    "- Represent the entire dataset of observations, for a population the mean is constant. "
   ]
  },
  {
   "cell_type": "code",
   "execution_count": 10,
   "metadata": {},
   "outputs": [
    {
     "name": "stdout",
     "output_type": "stream",
     "text": [
      "Population mean: 79.95608696773748\n"
     ]
    }
   ],
   "source": [
    "#Example \n",
    "population_mean = np.mean(population)\n",
    "print(\"Population mean: {}\".format(population_mean))"
   ]
  },
  {
   "cell_type": "code",
   "execution_count": 11,
   "metadata": {},
   "outputs": [],
   "source": [
    "# Generate samples population \n",
    "sample_1 = np.random.choice(population, size = 30, replace = False)\n",
    "sample_2 = np.random.choice(population, size=30, replace=False)\n",
    "sample_3 = np.random.choice(population, size=30, replace=False)\n",
    "sample_4 = np.random.choice(population, size=30, replace=False)\n",
    "sample_5 = np.random.choice(population, size=30, replace=False)"
   ]
  },
  {
   "cell_type": "code",
   "execution_count": 12,
   "metadata": {},
   "outputs": [],
   "source": [
    "sample_1_mean = np.mean(sample_1)\n",
    "sample_2_mean = np.mean(sample_2)\n",
    "sample_3_mean = np.mean(sample_3)\n",
    "sample_4_mean = np.mean(sample_4)\n",
    "sample_5_mean = np.mean(sample_5)"
   ]
  },
  {
   "cell_type": "code",
   "execution_count": 13,
   "metadata": {},
   "outputs": [
    {
     "name": "stdout",
     "output_type": "stream",
     "text": [
      "Sample 1 Mean: 78.82157141946615\n",
      "Sample 2 Mean: 79.17052600481296\n",
      "Sample 3 Mean: 80.33565559507625\n",
      "Sample 4 Mean: 79.08204769418708\n",
      "Sample 5 Mean: 80.66344214491393\n"
     ]
    }
   ],
   "source": [
    "print(\"Sample 1 Mean: {}\".format(sample_1_mean))\n",
    "print(\"Sample 2 Mean: {}\".format(sample_2_mean))\n",
    "print(\"Sample 3 Mean: {}\".format(sample_3_mean))\n",
    "print(\"Sample 4 Mean: {}\".format(sample_4_mean))\n",
    "print(\"Sample 5 Mean: {}\".format(sample_5_mean))"
   ]
  },
  {
   "cell_type": "markdown",
   "metadata": {},
   "source": [
    "**Central Limit Theorem**\n",
    "\n",
    "- The Central Limit Theorem states that the sampling distribution of the sample means approaches a normal distribution as the sample size gets larger — no matter what the shape of the population distribution. This fact holds especially true for sample sizes over 30.\n",
    "- An essential component of the **Central Limit Theorem** is that the average of your sample means will be the population mean. In other words, add up the means from all of your samples, find the average and that average will be your actual population mean\n"
   ]
  },
  {
   "cell_type": "code",
   "execution_count": 14,
   "metadata": {},
   "outputs": [],
   "source": [
    "# Select increasingly larger samples\n",
    "extra_small_sample = population[:10]\n",
    "small_sample = population[:50]\n",
    "medium_sample = population[:100]\n",
    "large_sample = population[:500]\n",
    "extra_large_sample = population[:1000]"
   ]
  },
  {
   "cell_type": "code",
   "execution_count": 15,
   "metadata": {},
   "outputs": [],
   "source": [
    "# Calculate the mean of those samples\n",
    "extra_small_sample_mean = np.mean(extra_small_sample)\n",
    "small_sample_mean = np.mean(small_sample)\n",
    "medium_sample_mean = np.mean(medium_sample)\n",
    "large_sample_mean = np.mean(large_sample)\n",
    "extra_large_sample_mean = np.mean(extra_large_sample)"
   ]
  },
  {
   "cell_type": "code",
   "execution_count": 16,
   "metadata": {},
   "outputs": [
    {
     "name": "stdout",
     "output_type": "stream",
     "text": [
      "Extra Small Sample Mean: 80.02104335587059\n",
      "Small Sample Mean: 80.17244657680247\n",
      "Medium Sample Mean: 80.04796303746896\n",
      "Large Sample Mean: 79.49523833682031\n",
      "Extra Large Sample Mean: 80.00143764429463\n",
      "\n",
      "Population Mean: 79.95608696773748\n"
     ]
    }
   ],
   "source": [
    "print(\"Extra Small Sample Mean: {}\".format(extra_small_sample_mean))\n",
    "print(\"Small Sample Mean: {}\".format(small_sample_mean))\n",
    "print(\"Medium Sample Mean: {}\".format(medium_sample_mean))\n",
    "print(\"Large Sample Mean: {}\".format(large_sample_mean))\n",
    "print(\"Extra Large Sample Mean: {}\".format(extra_large_sample_mean))\n",
    "\n",
    "print(\"\\nPopulation Mean: {}\".format(population_mean))"
   ]
  },
  {
   "cell_type": "markdown",
   "metadata": {},
   "source": [
    "**Hypothesis Tests**\n",
    "\n",
    "- Suppose we want to know if men are more likely to sign up for a given programming class than women. We invite 100 men and 100 women to this class. After one week, 34 women sign up, and 39 men sign up. More men than women signed up, but is this a “real” difference?\n",
    "\n",
    "- We have taken sample means from two different populations, men and women. We want to know if the difference that we observe in these sample means reflects a difference in the population means. To formally answer this question, we need to re-frame it in terms of probability:\n",
    "\n",
    "-“What is the probability that men and women have the same level of interest in this class and that the difference we observed is just chance?”\n",
    "\n",
    "- In other words, “If we gave the same invitation to every person in the world, would more men still sign up?”\n",
    "\n",
    "- A more formal version is: “What is the probability that the two population means are the same and that the difference we observed in the sample means is just chance?”\n",
    "\n",
    "- These statements are all ways of expressing a null hypothesis. A null hypothesis is a statement that the observed difference is the result of chance.\n",
    "- RO: Aceste afirmații sunt toate modalități de exprimare a unei ipoteze nule. O ipoteză nulă este o afirmație conform căreia diferența observată este rezultatul întâmplării."
   ]
  },
  {
   "cell_type": "markdown",
   "metadata": {},
   "source": [
    "**Type I Or Type II**\n",
    "\n",
    "- Type one erro or False Pozitive \n",
    "    - Exemplu:\n",
    "- For example, let’s say you conduct an A/B test for an online store and conclude that interface B is significantly better than interface A at directing traffic to a checkout page. You have rejected the null hypothesis that there is no difference between the two interfaces. If, in reality, your results were due to the groups you happened to pick, and there is actually no significant difference between interface A and interface B in the greater population, you have been the victim of a false positive.\n",
    "\n",
    "- Type two error or False Negative\n",
    "    - Exemplu:\n",
    "- The second kind of error, a Type II error, is failing to find a correlation between things that are actually related. This error is referred to as a “false negative” and occurs when the null hypothesis is accepted even though it is false."
   ]
  },
  {
   "cell_type": "markdown",
   "metadata": {},
   "source": [
    "**P-Value**\n",
    "\n",
    "- A hypothesis test provides a numerical answer, called a p-value, that helps us decide how confident we can be in the result.\n",
    "- RO:Un test de ipoteză oferă un răspuns numeric, numit valoare p, care ne ajută să decidem cât de încrezători putem fi în rezultat.\n",
    "- A p-value of 0.05 means that if the null hypothesis is true, there is a 5% chance that an observed sample statistic could have occurred due to random sampling error. For example, in comparing two sample means, a p-value of 0.05 indicates there is a 5% chance that the observed difference in sample means occurred by random chance, even though the population means are equal.\n",
    "- O valoare p de 0,05 înseamnă că dacă ipoteza nulă este adevărată, există o șansă de 5% ca o statistică a eșantionului observat să se fi produs din cauza unei erori de eșantionare aleatorie.De exemplu, la compararea a două mijloace de eșantionare, o valoare p de 0,05 indică o șansă de 5% ca diferența observată în mijloacele de eșantionare să aibă loc la întâmplare, chiar dacă media populației este egală."
   ]
  },
  {
   "attachments": {
    "distribution.PNG": {
     "image/png": "[encoded data removed]"
    }
   },
   "cell_type": "markdown",
   "metadata": {},
   "source": [
    "**1 Sample T-Testing(type 1 error)**\n",
    "- a 1 Sample T Test, which compares a sample mean to a hypothetical population mean.\n",
    "1. Create null hypothesis \n",
    "2. Create alternative hypothesis \n",
    "3. Form H0 and Ha\n",
    "4. Test of result is a p-value, whether of is less than our chosen threeshold (ussually 0.05) we can reject H0 in favor of Ha.\n",
    "T-distribution is used when have smaller sample size than 30\n",
    "\n",
    "**Exemplu**\n",
    "1. Define null and alternative hypotheses \n",
    "    - H0 = There is no difference between pop mean and sample mean miu = 100\n",
    "    - Ha = There is a difference between pop mean and sample mean miu different 100\n",
    "2. State Alpha\n",
    "     Alfa = 0.05 \n",
    "3. Calculate degrees of freedom\n",
    "    - n - 1 = 30 - 1 = 29 \n",
    "4. State Decision rule \n",
    "    - ![distribution.PNG](attachment:distribution.PNG)\n",
    "    - open the T-table, select the t value by intersecting degree of freedom 29 and alfa value 0.05, result is 2.0452.\n",
    "    - if t is less then - 2.0452, or greater than 2.0452, reject the null hypothesis.\n",
    "5. Calculate tetst statistic\n",
    "    - t = (sample_mean - pop_mean)/(sample_std/sqrt(n)) = 10.96\n",
    "6. State results\n",
    "    - t= 10.96 therefore is greater than 2.0452 \n",
    "    - Result reject null hypothesis \n",
    "7. State Conclusion \n",
    "    - Medication significantly affect intelligence, t = 10,96, p < 0.05 "
   ]
  },
  {
   "cell_type": "code",
   "execution_count": 17,
   "metadata": {},
   "outputs": [],
   "source": [
    "pop_mean = 100\n",
    "sample_mean = 140 \n",
    "sample_std = 20\n",
    "sample_size = 30 "
   ]
  },
  {
   "cell_type": "code",
   "execution_count": 18,
   "metadata": {},
   "outputs": [
    {
     "data": {
      "text/html": [
       "<div>\n",
       "<style scoped>\n",
       "    .dataframe tbody tr th:only-of-type {\n",
       "        vertical-align: middle;\n",
       "    }\n",
       "\n",
       "    .dataframe tbody tr th {\n",
       "        vertical-align: top;\n",
       "    }\n",
       "\n",
       "    .dataframe thead th {\n",
       "        text-align: right;\n",
       "    }\n",
       "</style>\n",
       "<table border=\"1\" class=\"dataframe\">\n",
       "  <thead>\n",
       "    <tr style=\"text-align: right;\">\n",
       "      <th></th>\n",
       "      <th>region</th>\n",
       "      <th>anzsic_descriptor</th>\n",
       "      <th>gas</th>\n",
       "      <th>units</th>\n",
       "      <th>magnitude</th>\n",
       "      <th>year</th>\n",
       "      <th>data_val</th>\n",
       "    </tr>\n",
       "  </thead>\n",
       "  <tbody>\n",
       "    <tr>\n",
       "      <td>0</td>\n",
       "      <td>Auckland</td>\n",
       "      <td>Agriculture</td>\n",
       "      <td>Carbon dioxide equivalents</td>\n",
       "      <td>Kilotonnes</td>\n",
       "      <td>Carbon dioxide equivalents</td>\n",
       "      <td>2007</td>\n",
       "      <td>811.63</td>\n",
       "    </tr>\n",
       "    <tr>\n",
       "      <td>1</td>\n",
       "      <td>Auckland</td>\n",
       "      <td>Agriculture</td>\n",
       "      <td>Carbon dioxide equivalents</td>\n",
       "      <td>Kilotonnes</td>\n",
       "      <td>Carbon dioxide equivalents</td>\n",
       "      <td>2008</td>\n",
       "      <td>777.95</td>\n",
       "    </tr>\n",
       "    <tr>\n",
       "      <td>2</td>\n",
       "      <td>Auckland</td>\n",
       "      <td>Agriculture</td>\n",
       "      <td>Carbon dioxide equivalents</td>\n",
       "      <td>Kilotonnes</td>\n",
       "      <td>Carbon dioxide equivalents</td>\n",
       "      <td>2009</td>\n",
       "      <td>684.00</td>\n",
       "    </tr>\n",
       "    <tr>\n",
       "      <td>3</td>\n",
       "      <td>Auckland</td>\n",
       "      <td>Agriculture</td>\n",
       "      <td>Carbon dioxide equivalents</td>\n",
       "      <td>Kilotonnes</td>\n",
       "      <td>Carbon dioxide equivalents</td>\n",
       "      <td>2010</td>\n",
       "      <td>706.56</td>\n",
       "    </tr>\n",
       "    <tr>\n",
       "      <td>4</td>\n",
       "      <td>Auckland</td>\n",
       "      <td>Agriculture</td>\n",
       "      <td>Carbon dioxide equivalents</td>\n",
       "      <td>Kilotonnes</td>\n",
       "      <td>Carbon dioxide equivalents</td>\n",
       "      <td>2011</td>\n",
       "      <td>764.30</td>\n",
       "    </tr>\n",
       "  </tbody>\n",
       "</table>\n",
       "</div>"
      ],
      "text/plain": [
       "     region anzsic_descriptor                         gas       units  \\\n",
       "0  Auckland       Agriculture  Carbon dioxide equivalents  Kilotonnes   \n",
       "1  Auckland       Agriculture  Carbon dioxide equivalents  Kilotonnes   \n",
       "2  Auckland       Agriculture  Carbon dioxide equivalents  Kilotonnes   \n",
       "3  Auckland       Agriculture  Carbon dioxide equivalents  Kilotonnes   \n",
       "4  Auckland       Agriculture  Carbon dioxide equivalents  Kilotonnes   \n",
       "\n",
       "                    magnitude  year  data_val  \n",
       "0  Carbon dioxide equivalents  2007    811.63  \n",
       "1  Carbon dioxide equivalents  2008    777.95  \n",
       "2  Carbon dioxide equivalents  2009    684.00  \n",
       "3  Carbon dioxide equivalents  2010    706.56  \n",
       "4  Carbon dioxide equivalents  2011    764.30  "
      ]
     },
     "execution_count": 18,
     "metadata": {},
     "output_type": "execute_result"
    }
   ],
   "source": [
    "# example of 1 sample T test calculation \n",
    "df = pd.read_csv(\"greenhouse_pollution.csv\")\n",
    "df.head()"
   ]
  },
  {
   "cell_type": "markdown",
   "metadata": {},
   "source": [
    "Ho = there is no difference between population mean and sample mean miu = 1464\n",
    "\n",
    "Ha = there is a difference between population mean and sample mean miu different 1646"
   ]
  },
  {
   "cell_type": "code",
   "execution_count": 19,
   "metadata": {},
   "outputs": [],
   "source": [
    "# prepare data \n",
    "data = df.data_val\n",
    "data_mean = np.mean(data)\n",
    "sample_size = 300"
   ]
  },
  {
   "cell_type": "code",
   "execution_count": 20,
   "metadata": {},
   "outputs": [],
   "source": [
    "# select randomnly samples \n",
    "sample_list = []\n",
    "for i in range(sample_size):\n",
    "    sample = np.random.choice(data, size = 50, replace = False)\n",
    "    sample_list.append(sample)"
   ]
  },
  {
   "cell_type": "code",
   "execution_count": 21,
   "metadata": {},
   "outputs": [],
   "source": [
    "# create sample mean list \n",
    "sample_mean = []\n",
    "for i in sample_list:\n",
    "    sample_mean.append(np.mean(i))  "
   ]
  },
  {
   "cell_type": "code",
   "execution_count": 22,
   "metadata": {},
   "outputs": [
    {
     "name": "stdout",
     "output_type": "stream",
     "text": [
      "Null hypothesis is True p-value was found less than 0.05 in 21 results out of 300.\n"
     ]
    }
   ],
   "source": [
    "# calculate the p-value\n",
    "greater_pval = 0\n",
    "for i in range(len(sample_list)):\n",
    "    result = ttest_1samp(sample_list[i], data_mean)\n",
    "    pval = result.pvalue\n",
    "    if pval < 0.05:\n",
    "        greater_pval += 1\n",
    "print(\"Null hypothesis is True p-value was found less than 0.05 in {} results out of {}.\".format(greater_pval, sample_size))"
   ]
  },
  {
   "cell_type": "code",
   "execution_count": 23,
   "metadata": {},
   "outputs": [
    {
     "data": {
      "image/png": "[encoded data removed]",
      "text/plain": [
       "<Figure size 432x288 with 1 Axes>"
      ]
     },
     "metadata": {
      "needs_background": "light"
     },
     "output_type": "display_data"
    }
   ],
   "source": [
    "# create a visual representation of the sample distribution of the sample mean \n",
    "plt.hist(sample_mean, edgecolor = 'yellow')\n",
    "plt.show()"
   ]
  },
  {
   "cell_type": "code",
   "execution_count": 24,
   "metadata": {},
   "outputs": [
    {
     "data": {
      "text/plain": [
       "Ttest_1sampResult(statistic=0.09887326728689472, pvalue=0.9216422801030014)"
      ]
     },
     "execution_count": 24,
     "metadata": {},
     "output_type": "execute_result"
    }
   ],
   "source": [
    "result = ttest_1samp(sample, data_mean)\n",
    "result"
   ]
  },
  {
   "attachments": {
    "2samples%20t-test.PNG": {
     "image/png": "[encoded data removed]"
    }
   },
   "cell_type": "markdown",
   "metadata": {},
   "source": [
    "**2 Sample T-Test**\n",
    "- is used to determine if two population means are equal\n",
    "- suppose that we have build a new site and you would like to know if the new site is more atractive, a sample of 100 visitors who saw the new version spent 28 minutes and another 100 visitors who visited the old variant spent 25 minutes. Are these groups different or is randomnly chance?\n",
    "- One way of testing whether this difference is significant is by using a 2 Sample T-Test. A 2 Sample T-Test compares two sets of numerical data.\n",
    "- define the H0 the two observed samples comes from the population with same mean \n",
    "- define the Ha the two observed samples comes from populations with different mean \n",
    "- ttest_ind function to perform a 2 Sample T-Test. It takes the two samples as inputs and returns the t-statistic and a p-value, which we can use to assess the probability of an observed difference happening by chance if the null hypothesis were true\n",
    "- compute t-statistic for  two samples t-test formula\n",
    "![2samples%20t-test.PNG](attachment:2samples%20t-test.PNG)"
   ]
  },
  {
   "cell_type": "code",
   "execution_count": 25,
   "metadata": {},
   "outputs": [],
   "source": [
    "# examples give the yield of corn for two types of fertilizer, fertilizer a and b. \n",
    "dataset = [452, 546, 874, 547, 554, 774, 447, 465, 356, 459, 754, 665, 558, 467, 574, 365, 664, 589, 682, 534, 547, 456, 435, 651, 245, 654, 665, 546, 537]\n",
    "a = dataset[:13]\n",
    "b = dataset[13 : ]"
   ]
  },
  {
   "cell_type": "code",
   "execution_count": 26,
   "metadata": {},
   "outputs": [
    {
     "name": "stdout",
     "output_type": "stream",
     "text": [
      "573.1538461538462 538.1875\n"
     ]
    }
   ],
   "source": [
    "# calculate mean value \n",
    "a_mean = np.mean(a)\n",
    "b_mean = np.mean(b)\n",
    "print(a_mean, b_mean)"
   ]
  },
  {
   "cell_type": "markdown",
   "metadata": {},
   "source": [
    "Set significance threeshold of = 0.05"
   ]
  },
  {
   "cell_type": "code",
   "execution_count": 27,
   "metadata": {},
   "outputs": [
    {
     "name": "stdout",
     "output_type": "stream",
     "text": [
      "0.49623097054641063\n",
      "0.6897605931386662\n"
     ]
    }
   ],
   "source": [
    "a_b_result = ttest_ind(a, b)\n",
    "a_b_pval = a_b_result.pvalue\n",
    "print(a_b_pval)\n",
    "print(a_b_result.statistic)"
   ]
  },
  {
   "cell_type": "markdown",
   "metadata": {},
   "source": [
    "**Anova**\n",
    "- wu use anova when we have more than 2 groups of  random variables \n",
    "- H0 all the populations means are equal, null hypothesis related to the equality \n",
    "- Ha not all the means are the same, at least one is different\n",
    "- we want to know if the differnces is likely by sampling variation by chance\n",
    "- we reject the H0 ( if we get a p-value less than 0.05), we can say that we are reasonably confident that at least one pair of populations is significantly different. "
   ]
  },
  {
   "cell_type": "markdown",
   "metadata": {},
   "source": [
    "To figure this out, we decided to implement it on smaller group of randomnly selected students from three different classes. We take three different groups of ten randomnly selected students (all of the same age) from three different classrooms. Each class was provided with a different enviroment for students to study. \n",
    "- classroom A had constant music being played in the background \n",
    "- classroom B had variable music being played \n",
    "- classroom C was a regular class without music \n",
    "After one month we conducted a test for all three groups and collect their scores \n",
    "- https://www.analyticsvidhya.com/blog/2018/01/anova-analysis-of-variance/"
   ]
  },
  {
   "cell_type": "code",
   "execution_count": 28,
   "metadata": {},
   "outputs": [],
   "source": [
    "# data input \n",
    "A = [7,9,5,8,6,8,6,10,7,4]\n",
    "b = '4362755413'\n",
    "c = '6135346573'\n",
    "B = []\n",
    "C = []\n",
    "for i in b:\n",
    "    B.append(int(i))\n",
    "for i in c:\n",
    "    C.append(int(i))"
   ]
  },
  {
   "cell_type": "code",
   "execution_count": 29,
   "metadata": {},
   "outputs": [],
   "source": [
    "# calculate the mean for each group \n",
    "A_mean = np.mean(A)\n",
    "B_mean = np.mean(B)\n",
    "C_mean = np.mean(C)\n",
    "grand_mean = (A_mean + B_mean + C_mean) / 3"
   ]
  },
  {
   "cell_type": "code",
   "execution_count": 30,
   "metadata": {},
   "outputs": [
    {
     "data": {
      "text/plain": [
       "27.3"
      ]
     },
     "execution_count": 30,
     "metadata": {},
     "output_type": "execute_result"
    }
   ],
   "source": [
    "# sum-of-squares for between-group variability\n",
    "# the degrees of freedom is the sum of the sample sizes (N) minus the number of samples (k).\n",
    "df_between = 3 - 1 \n",
    "ss_between = 10 *(A_mean - grand_mean)**2 + 10 *(B_mean - grand_mean)**2 + 10 *(C_mean - grand_mean)**2\n",
    "ms_between = ss_between / df_between\n",
    "ms_between "
   ]
  },
  {
   "cell_type": "code",
   "execution_count": 31,
   "metadata": {},
   "outputs": [
    {
     "data": {
      "text/plain": [
       "90.1"
      ]
     },
     "execution_count": 31,
     "metadata": {},
     "output_type": "execute_result"
    }
   ],
   "source": [
    "# sum of squares for within-group variability.\n",
    "ss_within = 0\n",
    "for i in range(len(A)):\n",
    "    sum_mean = (A[i] - A_mean)**2 + (B[i] - B_mean)**2 + (C[i] - C_mean)**2\n",
    "    ss_within += sum_mean\n",
    "ss_within"
   ]
  },
  {
   "cell_type": "code",
   "execution_count": 32,
   "metadata": {},
   "outputs": [
    {
     "data": {
      "text/plain": [
       "3.337037037037037"
      ]
     },
     "execution_count": 32,
     "metadata": {},
     "output_type": "execute_result"
    }
   ],
   "source": [
    "# degrees of freedom \n",
    "df_within = 30 -3 \n",
    "ms_within = ss_within / df_within\n",
    "ms_within"
   ]
  },
  {
   "cell_type": "code",
   "execution_count": 33,
   "metadata": {},
   "outputs": [
    {
     "data": {
      "text/plain": [
       "8.180910099889012"
      ]
     },
     "execution_count": 33,
     "metadata": {},
     "output_type": "execute_result"
    }
   ],
   "source": [
    "# F = Between group variability / Within group variability\n",
    "f_statistic = ms_between / ms_within\n",
    "f_statistic"
   ]
  },
  {
   "cell_type": "markdown",
   "metadata": {},
   "source": [
    "**Assumptions of T-Tests and ANOVA**\n",
    "\n",
    "- Data analysts in the real world often still perform t-tests or ANOVAs on data that are not normally distributed. This is usually not a problem if sample size is large, but it depends on how non-normal the data is. In general, the bigger the sample size, the safer you are!\n",
    "- For ANOVA and 2-Sample T-Tests, using datasets with standard deviations that are significantly different from each other will often obscure the differences in group means. That said, there is also a way to run a 2-Sample T-Test without assuming equal standard deviations "
   ]
  },
  {
   "cell_type": "markdown",
   "metadata": {},
   "source": [
    "**Tukey's Range Test**\n",
    "\n",
    "- We can perform a Tukey’s Range Test to determine the difference between datasets.\n",
    "\n",
    "- If we feed in three datasets, such as the sales at the VeryAnts store locations A, B, and C, Tukey’s Test can tell us which pairs of locations are distinguishable from each other.\n",
    "\n",
    "- The function to perform Tukey’s Range Test is **pairwise_tukeyhsd**, which is found in **statsmodel**, not scipy. We have to provide the function with one list of all of the data and a list of labels that tell the function which elements of the list are from which set. We also provide the significance level we want, which is usually 0.05."
   ]
  },
  {
   "cell_type": "markdown",
   "metadata": {},
   "source": [
    "An investigator wishes to compare the average time to relief of headache pain under three distinct medications, call them drug a, drug b and drug c. Fifteen patients who suffer from chronic headaches are randomnly selected for the investigations, and five subjects are randomnly assigned for treatment. This following data reflect times to relief(in minutes) after taking the asgned drug:\n",
    "\n",
    "- let's find out which drugs are sigficantly different?\n",
    "- alfa value is 0.05. "
   ]
  },
  {
   "cell_type": "code",
   "execution_count": 34,
   "metadata": {},
   "outputs": [],
   "source": [
    "drug_a = [30, 35, 40, 25, 35]\n",
    "drug_b = [25, 20, 30, 25, 30]\n",
    "drug_c = [15, 20, 25, 20, 20]"
   ]
  },
  {
   "cell_type": "code",
   "execution_count": 35,
   "metadata": {},
   "outputs": [
    {
     "name": "stdout",
     "output_type": "stream",
     "text": [
      "33.0 26.0 20.0\n"
     ]
    }
   ],
   "source": [
    "# calculate the mean \n",
    "a_drug_mean = np.mean(drug_a)\n",
    "b_drug_mean = np.mean(drug_b)\n",
    "c_drug_mean = np.mean(drug_c)\n",
    "print(a_drug_mean, b_drug_mean, c_drug_mean )"
   ]
  },
  {
   "cell_type": "code",
   "execution_count": 36,
   "metadata": {},
   "outputs": [
    {
     "name": "stdout",
     "output_type": "stream",
     "text": [
      "5.0990195135927845 3.7416573867739413 3.1622776601683795\n"
     ]
    }
   ],
   "source": [
    "# calculate standard deviation parameter \n",
    "a_drug_std = np.std(drug_a)\n",
    "b_drug_std = np.std(drug_b)\n",
    "c_drug_std = np.std(drug_c)\n",
    "print(a_drug_std, b_drug_std, c_drug_std)"
   ]
  },
  {
   "cell_type": "code",
   "execution_count": 37,
   "metadata": {},
   "outputs": [
    {
     "name": "stdout",
     "output_type": "stream",
     "text": [
      " Multiple Comparison of Means - Tukey HSD, FWER=0.05 \n",
      "=====================================================\n",
      "group1 group2 meandiff p-adj   lower    upper  reject\n",
      "-----------------------------------------------------\n",
      "drug_a drug_b     -7.0 0.0762 -14.6977  0.6977  False\n",
      "drug_a drug_c    -13.0 0.0019 -20.6977 -5.3023   True\n",
      "drug_b drug_c     -6.0  0.136 -13.6977  1.6977  False\n",
      "-----------------------------------------------------\n"
     ]
    }
   ],
   "source": [
    "v = np.concatenate([drug_a, drug_b, drug_c])\n",
    "labels = ['drug_a'] *len(drug_a) + ['drug_b'] *len(drug_b) + ['drug_c'] *len(drug_c)\n",
    "tukey_result = pairwise_tukeyhsd(v, labels, 0.05)\n",
    "print(tukey_result)"
   ]
  },
  {
   "cell_type": "code",
   "execution_count": 38,
   "metadata": {},
   "outputs": [
    {
     "data": {
      "text/plain": [
       "33.0"
      ]
     },
     "execution_count": 38,
     "metadata": {},
     "output_type": "execute_result"
    }
   ],
   "source": [
    "# design a function to calculate the mean \n",
    "def calculate_mean(data):\n",
    "    return np.mean(data)\n",
    "calculate_mean(drug_a)"
   ]
  },
  {
   "cell_type": "code",
   "execution_count": 39,
   "metadata": {},
   "outputs": [
    {
     "data": {
      "text/plain": [
       "250.0"
      ]
     },
     "execution_count": 39,
     "metadata": {},
     "output_type": "execute_result"
    }
   ],
   "source": [
    "# design a function to automaticly calculate the ss_within \n",
    "def ss_within(x, y, z):\n",
    "    ss_within = 0\n",
    "    for i in range(len(x)):\n",
    "        square_sum = (x[i] - calculate_mean(x))**2 + (y[i] - calculate_mean(y))**2 + (z[i] - calculate_mean(z))**2\n",
    "        ss_within += square_sum\n",
    "    return ss_within\n",
    "ss_within = ss_within(drug_a, drug_b, drug_c)\n",
    "ss_within"
   ]
  },
  {
   "cell_type": "code",
   "execution_count": 40,
   "metadata": {},
   "outputs": [
    {
     "data": {
      "text/plain": [
       "[33.0, 26.0, 20.0]"
      ]
     },
     "execution_count": 40,
     "metadata": {},
     "output_type": "execute_result"
    }
   ],
   "source": [
    "# create a list of means \n",
    "datasets = [drug_a, drug_b, drug_c]\n",
    "def mean_list(data):\n",
    "    mean_list = []\n",
    "    for i in data:\n",
    "        mean = calculate_mean(i)\n",
    "        mean_list.append(mean)\n",
    "    return mean_list\n",
    "mean_list = mean_list(datasets)  \n",
    "mean_list"
   ]
  },
  {
   "cell_type": "code",
   "execution_count": 41,
   "metadata": {},
   "outputs": [
    {
     "data": {
      "text/plain": [
       "6.3686733312362644"
      ]
     },
     "execution_count": 41,
     "metadata": {},
     "output_type": "execute_result"
    }
   ],
   "source": [
    "n_means = len(mean_list)\n",
    "df_within = 15 - n_means\n",
    "ms_within = ss_within / df_within\n",
    "group_individual = 5\n",
    "q_k = (max(mean_list) - min(mean_list)) / (np.sqrt(ms_within/group_individual))\n",
    "q_k"
   ]
  },
  {
   "cell_type": "markdown",
   "metadata": {},
   "source": [
    "**Binominal test**\n",
    "- Let’s imagine that we are analyzing the percentage of customers who make a purchase after visiting a website. 1000 customers visited the site this month, and 58 of them made a purchase. The marketing department reports that historical data suggests about 72 of every 1000 visitors make a purchase. Thus, they estimate that the probability of any particular customer making a purchase is 7.2%. We would like to know if this month’s number, 58 purchases, is significantly different from normal or a reasonable fluctuation due to random chance.\n",
    "\n",
    "- In previous exercises, we collected samples of numerical information (eg. order price) and then used the mean and standard deviation of those samples to make comparisons. In contrast, we now have a sample where each unit (a visitor) falls into one of two discrete categories:\n",
    "\n",
    "        “made a purchase”\n",
    "        “did not make a purchase”\n",
    "\n",
    "- Instead of comparing sample means, we want to compare the percent in the “made a purchase” category to some expectation. This can be done with a Binomial Test.The binomial distribution describes the number of expected “successes” in an experiment with some number of “trials”. In this case, our experiment consists of 1000 people visiting the site.\n",
    "- SciPy has a function called binom_test(), which performs a Binomial Test for you.\n",
    "- binom_test() requires three inputs, the number of observed successes, the number of total trials, and an expected probability of success. For example, with 1000 coin flips of a fair coin, we would expect a “success rate” (the rate of getting heads), to be 0.5, and the number of trials to be 1000. Let’s imagine we get 525 heads. Is the coin weighted? This function call would look like:"
   ]
  },
  {
   "cell_type": "code",
   "execution_count": 58,
   "metadata": {
    "scrolled": true
   },
   "outputs": [
    {
     "data": {
      "image/png": "[encoded data removed]",
      "text/plain": [
       "<Figure size 432x288 with 1 Axes>"
      ]
     },
     "metadata": {
      "needs_background": "light"
     },
     "output_type": "display_data"
    }
   ],
   "source": [
    "from scipy.stats import binom\n",
    "p = 83/1666\n",
    "n = 83\n",
    "distr0 = np.random.binomial(n, p, size = 10000)\n",
    "distr1 = binom.rvs(n=83,p=p,loc=0,size=10000)\n",
    "plt.hist(distr0, edgecolor = 'black')\n",
    "plt.hist(distr1, edgecolor = 'black')\n",
    "plt.show()"
   ]
  },
  {
   "cell_type": "code",
   "execution_count": 57,
   "metadata": {},
   "outputs": [
    {
     "name": "stdout",
     "output_type": "stream",
     "text": [
      "2.338790684195727e-37\n",
      "3.66128760933576e-10\n",
      "0.008606696889221319\n"
     ]
    }
   ],
   "source": [
    "from scipy.stats import binom_test\n",
    "num_visits = len(df)\n",
    "p_clicks_099 = (1000 / 0.99) / num_visits\n",
    "p_clicks_199 = (1000 / 1.99) / num_visits\n",
    "p_clicks_499 = (1000 / 4.99) / num_visits\n",
    "pvalueA = binom_test(316, 1666, p_clicks_099)\n",
    "print(pvalueA)\n",
    "pvalueB = binom_test(183, 1666, p_clicks_199)\n",
    "print(pvalueB)\n",
    "pvalueC = binom_test(83, 1666, p_clicks_499)\n",
    "print(pvalueC)"
   ]
  },
  {
   "cell_type": "markdown",
   "metadata": {},
   "source": [
    "**Chi Square Test**\n",
    "- In the last exercise, we looked at data where customers visited a website and either made a purchase or did not make a purchase. What if we also wanted to understand if the probability of making a purchase depends on some other categorical variable, like gender? If we want to understand whether the outcomes of two categorical variables are associated, we should use a Chi Square test. It is useful in situations like:\n",
    "\n",
    "- An A/B test where half of users were shown a green submit button and the other half were shown a purple submit button. Was one group more likely to click the submit button?\n",
    "People under and over age 40 were given a survey asking “Which of the following three products is your favorite?” Did these age groups have significantly different preferences?\n",
    "In SciPy, you can use the function chi2_contingency to perform a Chi Square test.\n",
    "\n",
    "The input to chi2_contingency is a contingency table where:\n",
    "\n",
    "- The columns are each a different condition, such as Interface A vs. Interface B\n",
    "- The rows represent different outcomes, like “Clicked a Link” vs. “Didn’t Click”\n",
    "\n",
    "Link:\n",
    "    https://byjus.com/maths/chi-square-test/"
   ]
  },
  {
   "cell_type": "code",
   "execution_count": null,
   "metadata": {},
   "outputs": [],
   "source": []
  },
  {
   "cell_type": "code",
   "execution_count": null,
   "metadata": {},
   "outputs": [],
   "source": [
    "from scipy.stats import chi2_contingency \n",
    "contingency = [[316, 1350], [183, 1483], [83, 1583]]\n",
    "chi2, p, dof, expctd = chi2_contingency(contingency)\n",
    "chi2, p"
   ]
  },
  {
   "cell_type": "code",
   "execution_count": null,
   "metadata": {},
   "outputs": [],
   "source": [
    "import math\n",
    "n = 32\n",
    "k = 5\n",
    "p = 5/32\n",
    "x = (math.factorial(n)/(math.factorial(n - k)* math.factorial(k))) * p**n * (1 - p)**(n-k)\n",
    "x"
   ]
  },
  {
   "cell_type": "code",
   "execution_count": null,
   "metadata": {},
   "outputs": [],
   "source": [
    "# Introduction to hypothesis One sample T-test"
   ]
  },
  {
   "cell_type": "code",
   "execution_count": null,
   "metadata": {},
   "outputs": [],
   "source": []
  }
 ],
 "metadata": {
  "kernelspec": {
   "display_name": "Python 3",
   "language": "python",
   "name": "python3"
  },
  "language_info": {
   "codemirror_mode": {
    "name": "ipython",
    "version": 3
   },
   "file_extension": ".py",
   "mimetype": "text/x-python",
   "name": "python",
   "nbconvert_exporter": "python",
   "pygments_lexer": "ipython3",
   "version": "3.7.4"
  }
 },
 "nbformat": 4,
 "nbformat_minor": 2
}
